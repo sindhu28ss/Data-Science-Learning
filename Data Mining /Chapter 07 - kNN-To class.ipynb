{
 "cells": [
  {
   "cell_type": "markdown",
   "metadata": {},
   "source": [
    "# k-Nearest Neighbors (kNN)\n",
    "\n",
    "## Import required packages"
   ]
  },
  {
   "cell_type": "code",
   "execution_count": 5,
   "metadata": {
    "execution": {
     "iopub.execute_input": "2021-05-27T20:03:04.853954Z",
     "iopub.status.busy": "2021-05-27T20:03:04.853521Z",
     "iopub.status.idle": "2021-05-27T20:03:05.649646Z",
     "shell.execute_reply": "2021-05-27T20:03:05.649144Z"
    }
   },
   "outputs": [],
   "source": [
    "from pathlib import Path\n",
    "\n",
    "import pandas as pd\n",
    "from sklearn import preprocessing\n",
    "from sklearn.model_selection import train_test_split\n",
    "from sklearn.metrics import accuracy_score\n",
    "from sklearn.neighbors import NearestNeighbors, KNeighborsClassifier\n",
    "import matplotlib.pylab as plt\n",
    "\n",
    "import dmba\n",
    "\n",
    "%matplotlib inline\n"
   ]
  },
  {
   "cell_type": "code",
   "execution_count": 1,
   "metadata": {
    "execution": {
     "iopub.execute_input": "2021-05-27T20:03:05.653676Z",
     "iopub.status.busy": "2021-05-27T20:03:05.653254Z",
     "iopub.status.idle": "2021-05-27T20:03:05.668593Z",
     "shell.execute_reply": "2021-05-27T20:03:05.668219Z"
    }
   },
   "outputs": [],
   "source": [
    "#Load the RidingMowers dataset"
   ]
  },
  {
   "cell_type": "code",
   "execution_count": 3,
   "metadata": {
    "execution": {
     "iopub.execute_input": "2021-05-27T20:03:05.673608Z",
     "iopub.status.busy": "2021-05-27T20:03:05.673176Z",
     "iopub.status.idle": "2021-05-27T20:03:05.680451Z",
     "shell.execute_reply": "2021-05-27T20:03:05.679929Z"
    }
   },
   "outputs": [],
   "source": [
    "#Partition the data into train and valid. Make sure you set seed"
   ]
  },
  {
   "cell_type": "code",
   "execution_count": 6,
   "metadata": {},
   "outputs": [
    {
     "data": {
      "text/html": [
       "<div>\n",
       "<style scoped>\n",
       "    .dataframe tbody tr th:only-of-type {\n",
       "        vertical-align: middle;\n",
       "    }\n",
       "\n",
       "    .dataframe tbody tr th {\n",
       "        vertical-align: top;\n",
       "    }\n",
       "\n",
       "    .dataframe thead th {\n",
       "        text-align: right;\n",
       "    }\n",
       "</style>\n",
       "<table border=\"1\" class=\"dataframe\">\n",
       "  <thead>\n",
       "    <tr style=\"text-align: right;\">\n",
       "      <th></th>\n",
       "      <th>Income</th>\n",
       "      <th>Lot_Size</th>\n",
       "    </tr>\n",
       "  </thead>\n",
       "  <tbody>\n",
       "    <tr>\n",
       "      <th>0</th>\n",
       "      <td>60</td>\n",
       "      <td>20</td>\n",
       "    </tr>\n",
       "  </tbody>\n",
       "</table>\n",
       "</div>"
      ],
      "text/plain": [
       "   Income  Lot_Size\n",
       "0      60        20"
      ]
     },
     "execution_count": 6,
     "metadata": {},
     "output_type": "execute_result"
    }
   ],
   "source": [
    "newHousehold = pd.DataFrame([{'Income': 60, 'Lot_Size': 20}])\n",
    "newHousehold"
   ]
  },
  {
   "cell_type": "markdown",
   "metadata": {},
   "source": [
    "Scatter plot"
   ]
  },
  {
   "cell_type": "code",
   "execution_count": 7,
   "metadata": {
    "execution": {
     "iopub.execute_input": "2021-05-27T20:03:05.688286Z",
     "iopub.status.busy": "2021-05-27T20:03:05.687815Z",
     "iopub.status.idle": "2021-05-27T20:03:05.987594Z",
     "shell.execute_reply": "2021-05-27T20:03:05.987215Z"
    }
   },
   "outputs": [],
   "source": [
    "#  Do a scatter plot: Lot size vs. Income (see if you can differentiate by Owner vs. Nonowner)"
   ]
  },
  {
   "cell_type": "markdown",
   "metadata": {},
   "source": [
    "Initialize normalized training, validation, and complete data frames. Use the training data to learn the transformation."
   ]
  },
  {
   "cell_type": "code",
   "execution_count": null,
   "metadata": {
    "execution": {
     "iopub.execute_input": "2021-05-27T20:03:06.343520Z",
     "iopub.status.busy": "2021-05-27T20:03:06.342996Z",
     "iopub.status.idle": "2021-05-27T20:03:06.345127Z",
     "shell.execute_reply": "2021-05-27T20:03:06.345465Z"
    }
   },
   "outputs": [],
   "source": [
    "scaler = preprocessing.StandardScaler()\n",
    "scaler.fit(trainData[['Income', 'Lot_Size']])  # Note the use of an array of column names\n",
    "\n",
    "# Transform the full dataset\n",
    "mowerNorm = pd.concat([pd.DataFrame(scaler.transform(mower_df[['Income', 'Lot_Size']]), \n",
    "                                    columns=['zIncome', 'zLot_Size']),\n",
    "                       mower_df[['Ownership', 'Number']]], axis=1)\n",
    "trainNorm = mowerNorm.iloc[trainData.index]\n",
    "#Similarly, get the valid one as well\n",
    "\n",
    "\n",
    "#Scale the new data\n"
   ]
  },
  {
   "cell_type": "markdown",
   "metadata": {},
   "source": [
    "Use k-nearest neighbour"
   ]
  },
  {
   "cell_type": "code",
   "execution_count": 7,
   "metadata": {
    "execution": {
     "iopub.execute_input": "2021-05-27T20:03:06.356495Z",
     "iopub.status.busy": "2021-05-27T20:03:06.356037Z",
     "iopub.status.idle": "2021-05-27T20:03:06.358446Z",
     "shell.execute_reply": "2021-05-27T20:03:06.358830Z"
    }
   },
   "outputs": [
    {
     "name": "stdout",
     "output_type": "stream",
     "text": [
      "     zIncome  zLot_Size Ownership  Number\n",
      "3  -0.409776   0.743358     Owner       4\n",
      "13 -0.804953   0.743358  Nonowner      14\n",
      "0  -0.477910  -0.174908     Owner       1\n"
     ]
    }
   ],
   "source": [
    "knn = KNeighborsClassifier(n_neighbors=3).fit(trainNorm[['zIncome', 'zLot_Size']], trainNorm['Ownership'])\n",
    "distances, indices = knn.kneighbors(newHouseholdNorm)\n",
    "print(knn.predict(newHouseholdNorm))\n",
    "print('Distances',distances)\n",
    "print('Indices', indices)\n",
    "print(trainNorm.iloc[indices[0], :])"
   ]
  },
  {
   "cell_type": "code",
   "execution_count": null,
   "metadata": {},
   "outputs": [],
   "source": [
    "#Try using knn for valid dataset\n"
   ]
  },
  {
   "cell_type": "markdown",
   "metadata": {},
   "source": [
    "## Finding the best k\n",
    "Initialize a data frame with two columns: `k` and `accuracy`"
   ]
  },
  {
   "cell_type": "code",
   "execution_count": 8,
   "metadata": {
    "execution": {
     "iopub.execute_input": "2021-05-27T20:03:06.375434Z",
     "iopub.status.busy": "2021-05-27T20:03:06.374956Z",
     "iopub.status.idle": "2021-05-27T20:03:06.427712Z",
     "shell.execute_reply": "2021-05-27T20:03:06.427353Z"
    }
   },
   "outputs": [
    {
     "name": "stdout",
     "output_type": "stream",
     "text": [
      "     k  accuracy\n",
      "0    1       0.6\n",
      "1    2       0.7\n",
      "2    3       0.8\n",
      "3    4       0.9\n",
      "4    5       0.7\n",
      "5    6       0.9\n",
      "6    7       0.9\n",
      "7    8       0.9\n",
      "8    9       0.9\n",
      "9   10       0.8\n",
      "10  11       0.8\n",
      "11  12       0.9\n",
      "12  13       0.4\n",
      "13  14       0.4\n"
     ]
    }
   ],
   "source": [
    "train_X = trainNorm[['zIncome', 'zLot_Size']]\n",
    "train_y = trainNorm['Ownership']\n",
    "valid_X = validNorm[['zIncome', 'zLot_Size']]\n",
    "valid_y = validNorm['Ownership']\n",
    "\n",
    "# Train a classifier for different values of k\n",
    "results = []\n",
    "for k in range(1, 15):\n",
    "    knn = KNeighborsClassifier(n_neighbors=k).fit(train_X, train_y)\n",
    "    results.append({\n",
    "        'k': k,\n",
    "        'accuracy': accuracy_score(valid_y, knn.predict(valid_X))\n",
    "    })\n",
    "\n",
    "# Convert results to a pandas data frame\n",
    "results = pd.DataFrame(results)\n",
    "print(results)"
   ]
  },
  {
   "cell_type": "code",
   "execution_count": 10,
   "metadata": {
    "execution": {
     "iopub.execute_input": "2021-05-27T20:03:06.441970Z",
     "iopub.status.busy": "2021-05-27T20:03:06.441521Z",
     "iopub.status.idle": "2021-05-27T20:03:06.444627Z",
     "shell.execute_reply": "2021-05-27T20:03:06.444255Z"
    }
   },
   "outputs": [],
   "source": [
    "# Retrain with full dataset using the best k\n"
   ]
  }
 ],
 "metadata": {
  "kernelspec": {
   "display_name": "Python 3 (ipykernel)",
   "language": "python",
   "name": "python3"
  },
  "language_info": {
   "codemirror_mode": {
    "name": "ipython",
    "version": 3
   },
   "file_extension": ".py",
   "mimetype": "text/x-python",
   "name": "python",
   "nbconvert_exporter": "python",
   "pygments_lexer": "ipython3",
   "version": "3.9.13"
  }
 },
 "nbformat": 4,
 "nbformat_minor": 2
}
